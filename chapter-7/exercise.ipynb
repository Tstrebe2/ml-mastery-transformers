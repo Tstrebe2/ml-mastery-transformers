{
  "cells": [
    {
      "cell_type": "markdown",
      "metadata": {
        "id": "view-in-github",
        "colab_type": "text"
      },
      "source": [
        "<a href=\"https://colab.research.google.com/github/Tstrebe2/ml-mastery-transformers/blob/main/chapter-7/exercise.ipynb\" target=\"_parent\"><img src=\"https://colab.research.google.com/assets/colab-badge.svg\" alt=\"Open In Colab\"/></a>"
      ]
    },
    {
      "cell_type": "code",
      "source": [
        "import math\n",
        "from pandas import read_csv\n",
        "import numpy as np\n",
        "from tensorflow.keras.models import Sequential\n",
        "from tensorflow.keras.layers import Dense, SimpleRNN\n",
        "from sklearn.preprocessing import MinMaxScaler\n",
        "from sklearn.metrics import mean_squared_error\n",
        "import matplotlib.pyplot as plt"
      ],
      "metadata": {
        "id": "-UJZ35YQdJWH"
      },
      "execution_count": 1,
      "outputs": []
    },
    {
      "cell_type": "code",
      "source": [
        "def create_RNN(hidden_units, dense_units, input_shape, activation):\n",
        "  model = Sequential()\n",
        "  model.add(SimpleRNN(hidden_units, input_shape=input_shape,\n",
        "    activation=activation[0]))\n",
        "  model.add(Dense(units=dense_units, activation=activation[1]))\n",
        "  model.compile(loss='mean_squared_error', optimizer='adam')\n",
        "  return model\n",
        "\n",
        "demo_model = create_RNN(2, 1, (3, 1), activation=['linear', 'linear'])"
      ],
      "metadata": {
        "id": "P01isg1DdLX5"
      },
      "execution_count": 2,
      "outputs": []
    },
    {
      "cell_type": "code",
      "source": [
        "wx = demo_model.get_weights()[0]\n",
        "wh = demo_model.get_weights()[1]\n",
        "bh = demo_model.get_weights()[2]\n",
        "wy = demo_model.get_weights()[3]\n",
        "by = demo_model.get_weights()[4]"
      ],
      "metadata": {
        "id": "oMTtu7oTdYZV"
      },
      "execution_count": 7,
      "outputs": []
    },
    {
      "cell_type": "code",
      "source": [
        "print('wx = ', wx, ' wh = ', wh, ' bh = ', bh, ' wy =', wy, 'by = ', by)"
      ],
      "metadata": {
        "id": "bQVNV7nzeWCB",
        "outputId": "e41d723f-abd8-4088-d784-b63bb1e773af",
        "colab": {
          "base_uri": "https://localhost:8080/"
        }
      },
      "execution_count": 8,
      "outputs": [
        {
          "output_type": "stream",
          "name": "stdout",
          "text": [
            "wx =  [[-1.2746286  -0.14352417]]  wh =  [[ 0.7235912  -0.69022876]\n",
            " [-0.69022876 -0.7235912 ]]  bh =  [0. 0.]  wy = [[0.4827776 ]\n",
            " [0.33579004]] by =  [0.]\n"
          ]
        }
      ]
    },
    {
      "cell_type": "code",
      "source": [
        "x = np.array([1, 2, 3])\n",
        "x_input = x.reshape((1, 3, 1))\n",
        "\n",
        "y_pred_model = demo_model.predict(x_input)\n",
        "\n",
        "m = 2\n",
        "h0 = np.zeros(m)\n",
        "h1 = np.dot(x[0], wx) + h0 + bh\n",
        "h2 = np.dot(x[1], wx) + np.dot(h1, wh) + bh\n",
        "h3 = np.dot(x[2], wx) + np.dot(h2, wh) + bh\n",
        "o3 = np.dot(h3, wy) + by\n",
        "\n",
        "print('h1 =', h1, 'h2 =', h2, 'h3 =', h3)\n",
        "print(\"Prediction from network \", y_pred_model)\n",
        "print(\"Prediction from our computation \", o3)"
      ],
      "metadata": {
        "id": "6yMChwZUesBD",
        "outputId": "8e945562-b58a-44a2-c45a-918bf1f18765",
        "colab": {
          "base_uri": "https://localhost:8080/"
        }
      },
      "execution_count": 22,
      "outputs": [
        {
          "output_type": "stream",
          "name": "stdout",
          "text": [
            "1/1 [==============================] - 0s 17ms/step\n",
            "h1 = [[-1.27462864 -0.14352417]] h2 = [[-3.37250285  0.69658983]] h3 = [[-6.74500566  1.39317967]]\n",
            "Prediction from network  [[-2.7885218]]\n",
            "Prediction from our computation  [[-2.78852176]]\n"
          ]
        }
      ]
    }
  ],
  "metadata": {
    "colab": {
      "name": "Welcome To Colaboratory",
      "toc_visible": true,
      "provenance": [],
      "include_colab_link": true
    },
    "kernelspec": {
      "display_name": "Python 3",
      "name": "python3"
    }
  },
  "nbformat": 4,
  "nbformat_minor": 0
}